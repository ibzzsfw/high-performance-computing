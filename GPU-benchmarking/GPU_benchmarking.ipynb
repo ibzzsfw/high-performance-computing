{
  "cells": [
    {
      "attachments": {},
      "cell_type": "markdown",
      "metadata": {
        "id": "vvd-C21IVxFJ"
      },
      "source": [
        "## 🧪 Lab 8 GPU benchmarking\n",
        "\n",
        "**Detail:**\n",
        "*\tOpen lab8-materials.ipynb on Google Colab for easily GPU access.\n",
        "*\tDo experiment with different size of matrix to see the execution time of each device.\n",
        "  - Plot the execution time vs matrix size for both GPU and CPU (in the same graph)\n",
        "  - Briefly explain the result and conclude your founding."
      ]
    },
    {
      "cell_type": "markdown",
      "metadata": {
        "id": "bM2zmpeQU3i8"
      },
      "source": [
        "### 📚 Import library"
      ]
    },
    {
      "cell_type": "code",
      "execution_count": null,
      "metadata": {
        "id": "ZLwQHXLqybLa"
      },
      "outputs": [],
      "source": [
        "import time\n",
        "\n",
        "import matplotlib.pyplot as plt\n",
        "import numpy as np\n",
        "import tensorflow as tf\n"
      ]
    },
    {
      "cell_type": "markdown",
      "metadata": {
        "id": "EHtOb-9QVAvw"
      },
      "source": [
        "### 🔌 Check if the runtime is set to use the GPU."
      ]
    },
    {
      "cell_type": "code",
      "execution_count": null,
      "metadata": {
        "id": "zqNShKjwycs0"
      },
      "outputs": [],
      "source": [
        "tf.config.list_physical_devices('GPU')"
      ]
    },
    {
      "cell_type": "markdown",
      "metadata": {
        "id": "xh8xKVGwVf3w"
      },
      "source": [
        "### 🔎 Experiments"
      ]
    },
    {
      "cell_type": "code",
      "execution_count": null,
      "metadata": {},
      "outputs": [],
      "source": [
        "REPEAT = 7\n",
        "\n",
        "np.random.seed(1)\n",
        "N = np.array([10, 100, 500, 750, 1000, 2000, 3000, 4000, 5000, 6000, 7000, 8000, 9000, 10000])\n",
        "time_gpu_mean = np.zeros(len(N))\n",
        "time_cpu_mean = np.zeros(len(N))\n",
        "time_cpu_std = np.zeros(len(N))\n",
        "time_gpu_std = np.zeros(len(N))"
      ]
    },
    {
      "cell_type": "code",
      "execution_count": null,
      "metadata": {},
      "outputs": [],
      "source": [
        "for i, n in enumerate(N):\n",
        "    time_gpu_n = np.zeros(REPEAT)\n",
        "    time_cpu_n = np.zeros(REPEAT)\n",
        "    print(\"Matrix size:\", n, \"x\", n)\n",
        "    x = np.array(np.random.randn(n, n), dtype=np.float32)\n",
        "    y = np.array(np.random.randn(n, n), dtype=np.float32)\n",
        "\n",
        "    for r in range(REPEAT):\n",
        "        start = time.time()\n",
        "        tf.matmul(x, y)  # maltiply matrix parallely using GPU\n",
        "        time_gpu_n[r] = time.time() - start\n",
        "\n",
        "        start = time.time()\n",
        "        x.dot(y)  # maltiply matrix parallely using CPU\n",
        "        time_cpu_n[r] = time.time() - start\n",
        "\n",
        "    time_gpu_mean[i] = np.mean(time_gpu_n)\n",
        "    time_cpu_mean[i] = np.mean(time_cpu_n)\n",
        "    time_gpu_std[i] = np.std(time_gpu_n)\n",
        "    time_cpu_std[i] = np.std(time_cpu_n)\n",
        "\n",
        "    del x, y, time_gpu_n, time_cpu_n"
      ]
    },
    {
      "cell_type": "code",
      "execution_count": null,
      "metadata": {},
      "outputs": [],
      "source": [
        "plt.style.use('seaborn-whitegrid')\n",
        "plt.rcParams['figure.figsize'] = [10, 5]\n",
        "plt.rcParams['figure.dpi'] = 100\n",
        "plt.rcParams['font.size'] = 12\n",
        "plt.rcParams['lines.linewidth'] = 2\n",
        "plt.rcParams['lines.markersize'] = 8\n",
        "plt.rcParams['legend.fontsize'] = 'large'\n",
        "plt.rcParams['axes.labelsize'] = 'large'\n",
        "plt.rcParams['axes.titlesize'] = 'large'\n",
        "\n",
        "plt.errorbar(N, time_gpu_mean, yerr=time_gpu_std, label='GPU')\n",
        "plt.errorbar(N, time_cpu_mean, yerr=time_cpu_std, label='CPU')\n",
        "plt.xlabel('Matrix size')\n",
        "plt.ylabel('Time (s)')\n",
        "plt.legend()\n",
        "plt.show()"
      ]
    }
  ],
  "metadata": {
    "accelerator": "GPU",
    "colab": {
      "provenance": []
    },
    "gpuClass": "standard",
    "kernelspec": {
      "display_name": "Python 3",
      "name": "python3"
    },
    "language_info": {
      "name": "python"
    }
  },
  "nbformat": 4,
  "nbformat_minor": 0
}
